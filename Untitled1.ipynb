{
  "nbformat": 4,
  "nbformat_minor": 0,
  "metadata": {
    "colab": {
      "name": "Untitled1.ipynb",
      "provenance": []
    },
    "kernelspec": {
      "name": "python3",
      "display_name": "Python 3"
    }
  },
  "cells": [
    {
      "cell_type": "code",
      "metadata": {
        "id": "KOWZW4DEPpBB",
        "colab_type": "code",
        "colab": {}
      },
      "source": [
        "import pandas as pd\n",
        "import numpy as np\n",
        "import matplotlib.pyplot as plt\n",
        "import warnings"
      ],
      "execution_count": null,
      "outputs": []
    },
    {
      "cell_type": "code",
      "metadata": {
        "id": "Ds2WtlefQET3",
        "colab_type": "code",
        "colab": {}
      },
      "source": [
        "warnings.filterwarnings('ignore')\n"
      ],
      "execution_count": null,
      "outputs": []
    },
    {
      "cell_type": "code",
      "metadata": {
        "id": "b7ogoBBOQEhE",
        "colab_type": "code",
        "colab": {}
      },
      "source": [
        "dataset_train=pd.read_csv('train.csv')\n",
        "dataset_test=pd.read_csv('test.csv')"
      ],
      "execution_count": null,
      "outputs": []
    },
    {
      "cell_type": "code",
      "metadata": {
        "id": "Jt3RJW26pnOu",
        "colab_type": "code",
        "colab": {
          "base_uri": "https://localhost:8080/",
          "height": 419
        },
        "outputId": "43749cfb-39c1-46bc-978e-2be1a24b0212"
      },
      "source": [
        "dataset_test"
      ],
      "execution_count": null,
      "outputs": [
        {
          "output_type": "execute_result",
          "data": {
            "text/html": [
              "<div>\n",
              "<style scoped>\n",
              "    .dataframe tbody tr th:only-of-type {\n",
              "        vertical-align: middle;\n",
              "    }\n",
              "\n",
              "    .dataframe tbody tr th {\n",
              "        vertical-align: top;\n",
              "    }\n",
              "\n",
              "    .dataframe thead th {\n",
              "        text-align: right;\n",
              "    }\n",
              "</style>\n",
              "<table border=\"1\" class=\"dataframe\">\n",
              "  <thead>\n",
              "    <tr style=\"text-align: right;\">\n",
              "      <th></th>\n",
              "      <th>id</th>\n",
              "      <th>tweet</th>\n",
              "    </tr>\n",
              "  </thead>\n",
              "  <tbody>\n",
              "    <tr>\n",
              "      <th>0</th>\n",
              "      <td>7921</td>\n",
              "      <td>I hate the new #iphone upgrade. Won't let me d...</td>\n",
              "    </tr>\n",
              "    <tr>\n",
              "      <th>1</th>\n",
              "      <td>7922</td>\n",
              "      <td>currently shitting my fucking pants. #apple #i...</td>\n",
              "    </tr>\n",
              "    <tr>\n",
              "      <th>2</th>\n",
              "      <td>7923</td>\n",
              "      <td>I'd like to puts some CD-ROMS on my iPad, is t...</td>\n",
              "    </tr>\n",
              "    <tr>\n",
              "      <th>3</th>\n",
              "      <td>7924</td>\n",
              "      <td>My ipod is officially dead. I lost all my pict...</td>\n",
              "    </tr>\n",
              "    <tr>\n",
              "      <th>4</th>\n",
              "      <td>7925</td>\n",
              "      <td>Been fighting iTunes all night! I only want th...</td>\n",
              "    </tr>\n",
              "    <tr>\n",
              "      <th>...</th>\n",
              "      <td>...</td>\n",
              "      <td>...</td>\n",
              "    </tr>\n",
              "    <tr>\n",
              "      <th>1948</th>\n",
              "      <td>9869</td>\n",
              "      <td>#SamsungGalaxyNote7 Explodes, Burns 6-Year-Old...</td>\n",
              "    </tr>\n",
              "    <tr>\n",
              "      <th>1949</th>\n",
              "      <td>9870</td>\n",
              "      <td>Now Available - Hoodie. Check it out here - ht...</td>\n",
              "    </tr>\n",
              "    <tr>\n",
              "      <th>1950</th>\n",
              "      <td>9871</td>\n",
              "      <td>There goes a crack right across the screen. If...</td>\n",
              "    </tr>\n",
              "    <tr>\n",
              "      <th>1951</th>\n",
              "      <td>9872</td>\n",
              "      <td>@codeofinterest as i said #Adobe big time we m...</td>\n",
              "    </tr>\n",
              "    <tr>\n",
              "      <th>1952</th>\n",
              "      <td>9873</td>\n",
              "      <td>Finally I got it .. thanx my father .. #Samsun...</td>\n",
              "    </tr>\n",
              "  </tbody>\n",
              "</table>\n",
              "<p>1953 rows × 2 columns</p>\n",
              "</div>"
            ],
            "text/plain": [
              "        id                                              tweet\n",
              "0     7921  I hate the new #iphone upgrade. Won't let me d...\n",
              "1     7922  currently shitting my fucking pants. #apple #i...\n",
              "2     7923  I'd like to puts some CD-ROMS on my iPad, is t...\n",
              "3     7924  My ipod is officially dead. I lost all my pict...\n",
              "4     7925  Been fighting iTunes all night! I only want th...\n",
              "...    ...                                                ...\n",
              "1948  9869  #SamsungGalaxyNote7 Explodes, Burns 6-Year-Old...\n",
              "1949  9870  Now Available - Hoodie. Check it out here - ht...\n",
              "1950  9871  There goes a crack right across the screen. If...\n",
              "1951  9872  @codeofinterest as i said #Adobe big time we m...\n",
              "1952  9873  Finally I got it .. thanx my father .. #Samsun...\n",
              "\n",
              "[1953 rows x 2 columns]"
            ]
          },
          "metadata": {
            "tags": []
          },
          "execution_count": 84
        }
      ]
    },
    {
      "cell_type": "code",
      "metadata": {
        "id": "UL8RG47sQFKo",
        "colab_type": "code",
        "colab": {
          "base_uri": "https://localhost:8080/",
          "height": 51
        },
        "outputId": "0220ea16-3740-4739-c409-e8409f21bc6b"
      },
      "source": [
        "import re\n",
        "import nltk\n",
        "nltk.download('stopwords')\n",
        "from nltk.corpus import stopwords\n",
        "from nltk.stem.porter import PorterStemmer"
      ],
      "execution_count": null,
      "outputs": [
        {
          "output_type": "stream",
          "text": [
            "[nltk_data] Downloading package stopwords to /root/nltk_data...\n",
            "[nltk_data]   Package stopwords is already up-to-date!\n"
          ],
          "name": "stdout"
        }
      ]
    },
    {
      "cell_type": "code",
      "metadata": {
        "id": "0PIuLEtIQE3P",
        "colab_type": "code",
        "colab": {}
      },
      "source": [
        "corpus=[]\n"
      ],
      "execution_count": null,
      "outputs": []
    },
    {
      "cell_type": "code",
      "metadata": {
        "id": "Xi17JQyQQE1j",
        "colab_type": "code",
        "colab": {}
      },
      "source": [
        "for i in range(0,7920):\n",
        "    text = re.sub(r'[^a-zA-Z]',' ',dataset_train['tweet'][i])\n",
        "    text = re.sub(r'#','',text) #Removing the # the hyper string symbol\n",
        "    text = re.sub(r'RT[\\s]','',text) #Removing RT\n",
        "    text = re.sub(r'http?:\\/\\/S+','',text) # remove \n",
        "    text = re.sub(r'https:+','',text) # remove \n",
        "    text = re.sub(r':','',text) # remove :\n",
        "    text = re.sub(r'//','',text) \n",
        "    text = re.sub(r'/','',text)\n",
        "    text=text.lower()\n",
        "    text=text.split()\n",
        "    ps=PorterStemmer()\n",
        "    all_stopwords=stopwords.words('english')\n",
        "    #all_stopwords.remove('not')\n",
        "    text=[ps.stem(word) for word in text if word not in set(all_stopwords)]\n",
        "    text=\" \".join(text)\n",
        "    corpus.append(text)"
      ],
      "execution_count": null,
      "outputs": []
    },
    {
      "cell_type": "code",
      "metadata": {
        "id": "mw5TQdxIQEvD",
        "colab_type": "code",
        "colab": {}
      },
      "source": [
        "for i in range(0,1953):\n",
        "    text = re.sub(r'[^a-zA-Z]',' ',dataset_test['tweet'][i])\n",
        "    text = re.sub(r'#','',text) #Removing the # the hyper string symbol\n",
        "    text = re.sub(r'RT[\\s]','',text) #Removing RT\n",
        "    text = re.sub(r'http?:\\/\\/S+','',text) # remove \n",
        "    text = re.sub(r'https:+','',text) # remove \n",
        "    text = re.sub(r':','',text) # remove :\n",
        "    text = re.sub(r'//','',text) \n",
        "    text = re.sub(r'/','',text)\n",
        "    text=text.lower()\n",
        "    text=text.split()\n",
        "    ps=PorterStemmer()\n",
        "    all_stopwords=stopwords.words('english')\n",
        "    #all_stopwords.remove('not')\n",
        "    text=[ps.stem(word) for word in text if word not in set(all_stopwords)]\n",
        "    text=\" \".join(text)\n",
        "    corpus.append(text)"
      ],
      "execution_count": null,
      "outputs": []
    },
    {
      "cell_type": "code",
      "metadata": {
        "id": "pBvF0cIupPLO",
        "colab_type": "code",
        "colab": {}
      },
      "source": [
        "from sklearn.feature_extraction.text import CountVectorizer\n",
        "cv=CountVectorizer()\n"
      ],
      "execution_count": null,
      "outputs": []
    },
    {
      "cell_type": "code",
      "metadata": {
        "id": "GlZHcmcmpPYk",
        "colab_type": "code",
        "colab": {}
      },
      "source": [
        "X_train=cv.fit_transform(corpus[0:7920]).toarray()\n",
        "X_test=cv.transform(corpus[7920:]).toarray()\n",
        "y_train=dataset_train.iloc[:,1].values"
      ],
      "execution_count": null,
      "outputs": []
    },
    {
      "cell_type": "code",
      "metadata": {
        "id": "NogBKDkdrb1o",
        "colab_type": "code",
        "colab": {
          "base_uri": "https://localhost:8080/",
          "height": 34
        },
        "outputId": "265b8f57-0bd0-4516-9f40-0d1bbc4862a1"
      },
      "source": [
        "from sklearn.naive_bayes import GaussianNB\n",
        "nbc=GaussianNB()\n",
        "nbc.fit(X_train,y_train)"
      ],
      "execution_count": null,
      "outputs": [
        {
          "output_type": "execute_result",
          "data": {
            "text/plain": [
              "GaussianNB(priors=None, var_smoothing=1e-09)"
            ]
          },
          "metadata": {
            "tags": []
          },
          "execution_count": 109
        }
      ]
    },
    {
      "cell_type": "code",
      "metadata": {
        "id": "CfptlVWprcFH",
        "colab_type": "code",
        "colab": {}
      },
      "source": [
        "y_pred=nbc.predict(X_train)\n"
      ],
      "execution_count": null,
      "outputs": []
    },
    {
      "cell_type": "code",
      "metadata": {
        "id": "ICutKpJ5sjs3",
        "colab_type": "code",
        "colab": {}
      },
      "source": [
        "from sklearn.metrics import accuracy_score\n",
        "score=accuracy_score(y_train,y_pred)\n"
      ],
      "execution_count": null,
      "outputs": []
    },
    {
      "cell_type": "code",
      "metadata": {
        "id": "7l2Mnhc1sj9c",
        "colab_type": "code",
        "colab": {
          "base_uri": "https://localhost:8080/",
          "height": 34
        },
        "outputId": "e4fb41ba-853d-430f-b28d-2f285cf795f5"
      },
      "source": [
        "score"
      ],
      "execution_count": null,
      "outputs": [
        {
          "output_type": "execute_result",
          "data": {
            "text/plain": [
              "0.9694444444444444"
            ]
          },
          "metadata": {
            "tags": []
          },
          "execution_count": 112
        }
      ]
    },
    {
      "cell_type": "code",
      "metadata": {
        "id": "RiuleTiOskqw",
        "colab_type": "code",
        "colab": {}
      },
      "source": [
        "y_pred=nbc.predict(X_test)"
      ],
      "execution_count": null,
      "outputs": []
    },
    {
      "cell_type": "code",
      "metadata": {
        "id": "piP9D8pq1O-a",
        "colab_type": "code",
        "colab": {
          "base_uri": "https://localhost:8080/",
          "height": 34
        },
        "outputId": "a14d872b-921b-479f-a5c8-c63c15a792bf"
      },
      "source": [
        "len(y_pred)"
      ],
      "execution_count": null,
      "outputs": [
        {
          "output_type": "execute_result",
          "data": {
            "text/plain": [
              "1953"
            ]
          },
          "metadata": {
            "tags": []
          },
          "execution_count": 114
        }
      ]
    },
    {
      "cell_type": "code",
      "metadata": {
        "id": "wRvKlapRtXgt",
        "colab_type": "code",
        "colab": {}
      },
      "source": [
        "submission=pd.DataFrame({'id': dataset_test['id'],'label':y_pred})"
      ],
      "execution_count": null,
      "outputs": []
    },
    {
      "cell_type": "code",
      "metadata": {
        "id": "Fwjn0oBctYAF",
        "colab_type": "code",
        "colab": {}
      },
      "source": [
        "submission.to_csv('submission.csv',index=False)"
      ],
      "execution_count": null,
      "outputs": []
    }
  ]
}